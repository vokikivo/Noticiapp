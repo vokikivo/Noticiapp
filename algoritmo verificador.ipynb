{
 "cells": [
  {
   "cell_type": "code",
   "execution_count": 3,
   "id": "willing-theology",
   "metadata": {
    "scrolled": false
   },
   "outputs": [
    {
     "name": "stdout",
     "output_type": "stream",
     "text": [
      "[False False False False False False False False False False False False\n",
      " False False False False]\n",
      "Accuracy: 1.0\n"
     ]
    }
   ],
   "source": [
    "# Load libraries\n",
    "import pandas as pd\n",
    "import pydotplus\n",
    "import matplotlib\n",
    "import graphviz\n",
    "from sklearn.tree import DecisionTreeClassifier # Import Decision Tree Classifier\n",
    "from sklearn.model_selection import train_test_split # Import train_test_split function\n",
    "from sklearn import metrics #Import scikit-learn metrics module for accuracy calculation\n",
    "from sklearn.tree import export_graphviz\n",
    "from IPython.display import Image\n",
    "from sklearn import tree\n",
    "from IPython.display import Image\n",
    "\n",
    "\n",
    "col_names = ['Url Verify','Tiene Title','Tiene Subtitle','Tiene Description','Medio Confiable','Medio No Confiable','Impact Words Count','Faltas Ortograficas','Veracidad']\n",
    "\n",
    "# Cargar dataset\n",
    "noticias = pd.read_csv(\"D:\\\\Respaldo\\\\importante\\\\Universidad\\\\Proyecto Aplicado de Titulación\\\\dataset noticias falsas chilenas procesadas.csv\",header=None, names=col_names)\n",
    "noticias.shape\n",
    "noticias.head()\n",
    "\n",
    "#Dividir dataset en variables de caracteristicas (independientes) y variables objetivo (dependientes)\n",
    "feature_cols = ['Url Verify','Tiene Title','Tiene Subtitle', 'Tiene Description','Medio Confiable','Medio No Confiable','Impact Words Count','Faltas Ortograficas']\n",
    "X = noticias[feature_cols] \n",
    "y = noticias.Veracidad \n",
    "\n",
    "# División dataset en set de entrenamiento y set de prueba\n",
    "X_train, X_test, y_train, y_test = train_test_split(X, y, test_size=0.5, random_state=0) # 50% entrenamiento 50% prueba\n",
    "print(X_train)\n",
    "print(X_test)\n",
    "print(y_train)\n",
    "print(y_test)\n",
    "\n",
    "# Creación Árbol de Decisión\n",
    "clf = DecisionTreeClassifier()\n",
    "\n",
    "# Entrenamiento Árbol de Decisión\n",
    "clf = clf.fit(X_train,y_train)\n",
    "\n",
    "#Predicción para datos de entrenamiento\n",
    "y_pred = clf.predict(X_test)\n",
    "print(y_pred)\n",
    "\n",
    "# Porcentaje de Eficacia\n",
    "print(\"Accuracy:\",metrics.accuracy_score(y_test, y_pred))\n",
    "\n"
   ]
  },
  {
   "cell_type": "code",
   "execution_count": null,
   "id": "worthy-discharge",
   "metadata": {},
   "outputs": [],
   "source": []
  },
  {
   "cell_type": "code",
   "execution_count": null,
   "id": "transparent-slovak",
   "metadata": {},
   "outputs": [],
   "source": []
  },
  {
   "cell_type": "code",
   "execution_count": null,
   "id": "improved-schedule",
   "metadata": {},
   "outputs": [],
   "source": []
  },
  {
   "cell_type": "code",
   "execution_count": null,
   "id": "delayed-drink",
   "metadata": {},
   "outputs": [],
   "source": []
  },
  {
   "cell_type": "code",
   "execution_count": null,
   "id": "stone-commons",
   "metadata": {},
   "outputs": [],
   "source": []
  },
  {
   "cell_type": "code",
   "execution_count": null,
   "id": "looking-recycling",
   "metadata": {},
   "outputs": [],
   "source": []
  }
 ],
 "metadata": {
  "kernelspec": {
   "display_name": "Python 3",
   "language": "python",
   "name": "python3"
  },
  "language_info": {
   "codemirror_mode": {
    "name": "ipython",
    "version": 3
   },
   "file_extension": ".py",
   "mimetype": "text/x-python",
   "name": "python",
   "nbconvert_exporter": "python",
   "pygments_lexer": "ipython3",
   "version": "3.8.5"
  }
 },
 "nbformat": 4,
 "nbformat_minor": 5
}
