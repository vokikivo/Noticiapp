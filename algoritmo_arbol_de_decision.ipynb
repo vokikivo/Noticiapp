{
 "cells": [
  {
   "cell_type": "code",
   "execution_count": 19,
   "id": "willing-theology",
   "metadata": {
    "scrolled": false
   },
   "outputs": [
    {
     "name": "stdout",
     "output_type": "stream",
     "text": [
      "[ True  True  True  True  True  True  True  True  True]\n",
      "Accuracy: 1.0\n"
     ]
    }
   ],
   "source": [
    "# Load libraries\n",
    "import pandas as pd\n",
    "import pydotplus\n",
    "import matplotlib\n",
    "import graphviz\n",
    "from sklearn.tree import DecisionTreeClassifier # Import Decision Tree Classifier\n",
    "from sklearn.model_selection import train_test_split # Import train_test_split function\n",
    "from sklearn import metrics #Import scikit-learn metrics module for accuracy calculation\n",
    "from sklearn.tree import export_graphviz\n",
    "from IPython.display import Image\n",
    "from sklearn import tree\n",
    "from IPython.display import Image\n",
    "\n",
    "\n",
    "col_names = ['Url','Url Verify','Tiene Title','Tiene Subtitle','Tiene Description','Medio Confiable','Medio No Confiable','Impact Words Count','Faltas Ortograficas','Veracidad']\n",
    "\n",
    "# load dataset\n",
    "noticias = pd.read_csv(\"D:\\\\Respaldo\\\\importante\\\\Universidad\\\\Proyecto Aplicado de Titulación\\\\dataset noticias chilenas reales transformadas 2.csv\",header=None, names=col_names)\n",
    "noticias.shape\n",
    "noticias.head()\n",
    "\n",
    "#split dataset in features and target variable\n",
    "feature_cols = ['Url Verify','Tiene Title','Tiene Subtitle', 'Tiene Description','Medio Confiable','Medio No Confiable','Impact Words Count','Faltas Ortograficas']\n",
    "X = noticias[feature_cols] # Features\n",
    "y = noticias.Veracidad # Target variable\n",
    "\n",
    "# Split dataset into training set and test set\n",
    "X_train, X_test, y_train, y_test = train_test_split(X, y, test_size=0.3, random_state=1) # 70% training and 30% test\n",
    "\n",
    "# Create Decision Tree classifer object\n",
    "clf = DecisionTreeClassifier()\n",
    "\n",
    "# Train Decision Tree Classifer\n",
    "clf = clf.fit(X_train,y_train)\n",
    "\n",
    "#Predict the response for test dataset\n",
    "y_pred = clf.predict(X_test)\n",
    "print(y_pred)\n",
    "\n",
    "# Model Accuracy, how often is the classifier correct?\n",
    "print(\"Accuracy:\",metrics.accuracy_score(y_test, y_pred))\n"
   ]
  },
  {
   "cell_type": "code",
   "execution_count": null,
   "id": "worthy-discharge",
   "metadata": {},
   "outputs": [],
   "source": []
  },
  {
   "cell_type": "code",
   "execution_count": null,
   "id": "transparent-slovak",
   "metadata": {},
   "outputs": [],
   "source": []
  },
  {
   "cell_type": "code",
   "execution_count": null,
   "id": "improved-schedule",
   "metadata": {},
   "outputs": [],
   "source": []
  },
  {
   "cell_type": "code",
   "execution_count": null,
   "id": "abroad-forwarding",
   "metadata": {},
   "outputs": [],
   "source": []
  }
 ],
 "metadata": {
  "kernelspec": {
   "display_name": "Python 3",
   "language": "python",
   "name": "python3"
  },
  "language_info": {
   "codemirror_mode": {
    "name": "ipython",
    "version": 3
   },
   "file_extension": ".py",
   "mimetype": "text/x-python",
   "name": "python",
   "nbconvert_exporter": "python",
   "pygments_lexer": "ipython3",
   "version": "3.8.5"
  }
 },
 "nbformat": 4,
 "nbformat_minor": 5
}
